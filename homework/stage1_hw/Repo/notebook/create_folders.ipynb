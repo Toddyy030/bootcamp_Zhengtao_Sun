{
 "cells": [
  {
   "cell_type": "code",
   "execution_count": 2,
   "id": "59fd6f9e",
   "metadata": {},
   "outputs": [
    {
     "data": {
      "text/plain": [
       "PosixPath('/Users/zhengtaosun/Documents/bootcamp_Zhengtao_Sun/homework/stage1_hw/Repo/README.md')"
      ]
     },
     "execution_count": 2,
     "metadata": {},
     "output_type": "execute_result"
    }
   ],
   "source": [
    "from pathlib import Path\n",
    "import textwrap\n",
    "\n",
    "Repo_name = \"Repo\"\n",
    "Folders = [\"data\",\"src\",\"notebook\",\"docs\"]\n",
    "base = Path.cwd()/Repo_name\n",
    "base.mkdir(parents=True,exist_ok=True)\n",
    "for f in Folders:\n",
    "    (base/f).mkdir(parents=True,exist_ok=True)\n",
    "\n",
    "README_TEMPLATE = textwrap.dedent(\"\"\"\n",
    "                                  \n",
    "## Problem Statement\n",
    "We aim to determine whether the trading strategy is valid for deploy in the real world market.In order to validate the trading strategy, it is important to run backtest with historical data from the stock market, and judge the validation\n",
    "of the trading strategy by important metrics like annualized return, maximum drawdown, and sharpe ratio. It matters for portfolio managers to deploy\n",
    "the stratgey or not. \n",
    "\n",
    "\"\"\"\n",
    ")\n",
    "\n",
    "\n",
    "readme_path = base /\"README.md\"\n",
    "if not readme_path.exists():\n",
    "    readme_path.write_text(README_TEMPLATE, encoding=\"utf-8\")\n",
    "readme_path.resolve()\n"
   ]
  }
 ],
 "metadata": {
  "kernelspec": {
   "display_name": "bootcamp_env",
   "language": "python",
   "name": "python3"
  },
  "language_info": {
   "codemirror_mode": {
    "name": "ipython",
    "version": 3
   },
   "file_extension": ".py",
   "mimetype": "text/x-python",
   "name": "python",
   "nbconvert_exporter": "python",
   "pygments_lexer": "ipython3",
   "version": "3.10.18"
  }
 },
 "nbformat": 4,
 "nbformat_minor": 5
}
