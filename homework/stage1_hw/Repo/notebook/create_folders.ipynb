{
 "cells": [
  {
   "cell_type": "code",
   "execution_count": null,
   "id": "59fd6f9e",
   "metadata": {},
   "outputs": [],
   "source": [
    "from pathlib import Path\n",
    "\n",
    "Repo_name = \"Repo\"\n",
    "Folders = [\"data\",\"src\",\"notebook\",\"docs\"]\n",
    "base = Path(\"/Users/zhengtaosun/Documents/bootcamp_Zhengtao_Sun/homework/stage1_hw\")/Repo_name\n",
    "base.mkdir(parents=True,exist_ok=True)\n",
    "for f in Folders:\n",
    "    (base/f).mkdir(parents=True,exist_ok=True)\n"
   ]
  }
 ],
 "metadata": {
  "kernelspec": {
   "display_name": "fe-course",
   "language": "python",
   "name": "python3"
  },
  "language_info": {
   "codemirror_mode": {
    "name": "ipython",
    "version": 3
   },
   "file_extension": ".py",
   "mimetype": "text/x-python",
   "name": "python",
   "nbconvert_exporter": "python",
   "pygments_lexer": "ipython3",
   "version": "3.11.13"
  }
 },
 "nbformat": 4,
 "nbformat_minor": 5
}
