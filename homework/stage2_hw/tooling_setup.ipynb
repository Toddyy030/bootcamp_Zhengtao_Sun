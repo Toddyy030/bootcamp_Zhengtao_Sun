{
 "cells": [
  {
   "cell_type": "code",
   "execution_count": 2,
   "id": "e7047214",
   "metadata": {},
   "outputs": [],
   "source": [
    "from pathlib import Path\n",
    "# Repo_name = \"stage2_hw\"\n",
    "Folders = [\"data\",\"src\",\"notebook\"]\n",
    "base = Path.cwd()\n",
    "base.mkdir(parents=True,exist_ok=True)\n",
    "for f in Folders:\n",
    "    (base/f).mkdir(parents=True,exist_ok=True)"
   ]
  },
  {
   "cell_type": "code",
   "execution_count": 4,
   "id": "a73f2ed0",
   "metadata": {},
   "outputs": [
    {
     "name": "stdout",
     "output_type": "stream",
     "text": [
      ".env loaded (if present)\n"
     ]
    }
   ],
   "source": [
    "from dotenv import load_dotenv\n",
    "load_dotenv()  # looks for a .env file in the current and parent directories\n",
    "print(\".env loaded (if present)\")"
   ]
  }
 ],
 "metadata": {
  "kernelspec": {
   "display_name": "fe-course",
   "language": "python",
   "name": "python3"
  },
  "language_info": {
   "codemirror_mode": {
    "name": "ipython",
    "version": 3
   },
   "file_extension": ".py",
   "mimetype": "text/x-python",
   "name": "python",
   "nbconvert_exporter": "python",
   "pygments_lexer": "ipython3",
   "version": "3.11.13"
  }
 },
 "nbformat": 4,
 "nbformat_minor": 5
}
