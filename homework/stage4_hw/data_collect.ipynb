{
 "cells": [
  {
   "cell_type": "code",
   "execution_count": 53,
   "id": "fcc4a84d",
   "metadata": {},
   "outputs": [],
   "source": [
    "import os\n",
    "import requests\n",
    "import pandas as pd\n",
    "from pathlib import Path\n",
    "from dotenv import load_dotenv\n",
    "import datetime as dt\n",
    "import yfinance as yf\n",
    "\n",
    "path = Path(\"data/raw\")\n",
    "path.mkdir(parents=True,exist_ok=True)\n",
    "\n",
    "load_dotenv()\n",
    "try:\n",
    "    api_key = os.getenv(\"API_KEY\")\n",
    "except Exception as e:\n",
    "    print(\"Error occur\",e)"
   ]
  },
  {
   "cell_type": "code",
   "execution_count": 48,
   "id": "fe2c78dc",
   "metadata": {},
   "outputs": [],
   "source": [
    "#useable function\n",
    "def validate(df:pd.DataFrame,required_columns):\n",
    "    missing = [c for c in required_columns if c not in df.columns ]\n",
    "    return {\"missing\":missing,\"shape\":df.shape,\"none_count\":df.isna().sum().sum}\n",
    "def time_stamp():\n",
    "    return dt.datetime.now().strftime(\"%Y%m%d-%H%M%S\")\n",
    "def save_csv(df:pd.DataFrame,prefix:str,**meta):\n",
    "    mid = '_'.join([f\"{k}-{v}\" for k,v in meta.items()])\n",
    "    save_path = path / f\"{prefix}_{mid}_{time_stamp()}.csv\"\n",
    "    df.to_csv(save_path,index=False)\n",
    "    print(f\"saved path:{save_path}\")\n",
    "    return save_path"
   ]
  },
  {
   "cell_type": "code",
   "execution_count": 49,
   "id": "4c28e39f",
   "metadata": {},
   "outputs": [
    {
     "data": {
      "text/plain": [
       "0    2025-03-25\n",
       "1    2025-03-26\n",
       "2    2025-03-27\n",
       "3    2025-03-28\n",
       "4    2025-03-31\n",
       "        ...    \n",
       "95   2025-08-11\n",
       "96   2025-08-12\n",
       "97   2025-08-13\n",
       "98   2025-08-14\n",
       "99   2025-08-15\n",
       "Name: date, Length: 100, dtype: datetime64[ns]"
      ]
     },
     "execution_count": 49,
     "metadata": {},
     "output_type": "execute_result"
    }
   ],
   "source": [
    "#request stock data from public API alpha vantage\n",
    "symbol = \"NVDA\"\n",
    "if api_key:\n",
    "    url = \"https://www.alphavantage.co/query\"\n",
    "    params = {\n",
    "        \"function\":\"TIME_SERIES_DAILY\",\n",
    "        \"symbol\":symbol,\n",
    "        \"outsize\":\"compact\",\n",
    "        \"data_type\":\"json\",\n",
    "        \"apikey\":api_key\n",
    "    }\n",
    "    r = requests.get(url=url,params=params)\n",
    "    js = r.json()\n",
    "    js.keys()\n",
    "    series = js[\"Time Series (Daily)\"]\n",
    "    df_api = pd.DataFrame(series).T.rename_axis(\"date\").reset_index()\n",
    "    df_api[\"date\"] = pd.to_datetime(df_api[\"date\"])\n",
    "    df_api.rename(columns={\"1. open\":\"open\",\"2. high\":\"high\",\"3. low\":\"low\",\"4. close\":\"close\",\"5. volume\":\"volume\"},inplace=True)\n",
    "    for column in df_api.columns[1:]:\n",
    "        df_api[column] = pd.to_numeric(df_api[column])\n",
    "else:\n",
    "    df_api = yf.download(tickers=symbol,period=\"6mo\",interval=\"1d\",auto_adjust=False)\n",
    "    df_api = df_api.reset_index()\n",
    "    df_api.rename(columns={\"Open\":\"open\",\"High\":\"high\",\"Low\":\"low\",\"Close\":\"close\",\"Volume\":\"volume\"},inplace=True)\n",
    "df_api[\"date\"].sort_values().reset_index(drop=True)"
   ]
  },
  {
   "cell_type": "code",
   "execution_count": null,
   "id": "ba97ee2e",
   "metadata": {},
   "outputs": [
    {
     "data": {
      "text/plain": [
       "{'missing': ['adj close'],\n",
       " 'shape': (100, 6),\n",
       " 'none_count': <bound method Series.sum of date      0\n",
       " open      0\n",
       " high      0\n",
       " low       0\n",
       " close     0\n",
       " volume    0\n",
       " dtype: int64>}"
      ]
     },
     "execution_count": 58,
     "metadata": {},
     "output_type": "execute_result"
    }
   ],
   "source": [
    "#validate dataframe for required column \n",
    "required = [\"open\",\"high\",\"low\",\"close\",\"volume\",\"adj close\"]\n",
    "validate(df_api,required_columns=required)"
   ]
  },
  {
   "cell_type": "code",
   "execution_count": null,
   "id": "25488b41",
   "metadata": {},
   "outputs": [
    {
     "name": "stdout",
     "output_type": "stream",
     "text": [
      "saved path:data/raw/api_source-alpha_symbol-NVDA_20250817-212610.csv\n"
     ]
    }
   ],
   "source": [
    "#save csv file to path\n",
    "_ = save_csv(df_api, prefix='api', source='alpha' if api_key else 'yfinance', symbol=symbol)"
   ]
  }
 ],
 "metadata": {
  "kernelspec": {
   "display_name": "fe-course",
   "language": "python",
   "name": "python3"
  },
  "language_info": {
   "codemirror_mode": {
    "name": "ipython",
    "version": 3
   },
   "file_extension": ".py",
   "mimetype": "text/x-python",
   "name": "python",
   "nbconvert_exporter": "python",
   "pygments_lexer": "ipython3",
   "version": "3.11.13"
  }
 },
 "nbformat": 4,
 "nbformat_minor": 5
}
