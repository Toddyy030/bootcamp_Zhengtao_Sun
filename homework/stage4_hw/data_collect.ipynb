{
 "cells": [
  {
   "cell_type": "code",
   "execution_count": 2,
   "id": "fcc4a84d",
   "metadata": {},
   "outputs": [],
   "source": [
    "import os\n",
    "import requests\n",
    "import pandas as pd\n",
    "from pathlib import Path\n",
    "from dotenv import load_dotenv\n",
    "import datetime as dt\n",
    "import yfinance as yf\n",
    "from bs4 import BeautifulSoup\n",
    "\n",
    "path = Path(\"data/raw\")\n",
    "path.mkdir(parents=True,exist_ok=True)\n",
    "\n",
    "load_dotenv()\n",
    "try:\n",
    "    api_key = os.getenv(\"API_KEY\")\n",
    "except Exception as e:\n",
    "    print(\"Error occur\",e)"
   ]
  },
  {
   "cell_type": "code",
   "execution_count": 48,
   "id": "fe2c78dc",
   "metadata": {},
   "outputs": [],
   "source": [
    "#useable function\n",
    "def validate(df:pd.DataFrame,required_columns):\n",
    "    missing = [c for c in required_columns if c not in df.columns ]\n",
    "    return {\"missing\":missing,\"shape\":df.shape,\"none_count\":df.isna().sum().sum}\n",
    "def time_stamp():\n",
    "    return dt.datetime.now().strftime(\"%Y%m%d-%H%M%S\")\n",
    "def save_csv(df:pd.DataFrame,prefix:str,**meta):\n",
    "    mid = '_'.join([f\"{k}-{v}\" for k,v in meta.items()])\n",
    "    save_path = path / f\"{prefix}_{mid}_{time_stamp()}.csv\"\n",
    "    df.to_csv(save_path,index=False)\n",
    "    print(f\"saved path:{save_path}\")\n",
    "    return save_path"
   ]
  },
  {
   "cell_type": "code",
   "execution_count": 5,
   "id": "4c28e39f",
   "metadata": {},
   "outputs": [
    {
     "data": {
      "text/plain": [
       "0    2025-03-27\n",
       "1    2025-03-28\n",
       "2    2025-03-31\n",
       "3    2025-04-01\n",
       "4    2025-04-02\n",
       "        ...    \n",
       "95   2025-08-13\n",
       "96   2025-08-14\n",
       "97   2025-08-15\n",
       "98   2025-08-18\n",
       "99   2025-08-19\n",
       "Name: date, Length: 100, dtype: datetime64[ns]"
      ]
     },
     "execution_count": 5,
     "metadata": {},
     "output_type": "execute_result"
    }
   ],
   "source": [
    "#request stock data from public API alpha vantage\n",
    "symbol = \"NVDA\"\n",
    "if api_key:\n",
    "    url = \"https://www.alphavantage.co/query\"\n",
    "    params = {\n",
    "        \"function\":\"TIME_SERIES_DAILY\",\n",
    "        \"symbol\":symbol,\n",
    "        \"outsize\":\"compact\",\n",
    "        \"data_type\":\"json\",\n",
    "        \"apikey\":api_key\n",
    "    }\n",
    "    r = requests.get(url=url,params=params)\n",
    "    js = r.json()\n",
    "    js.keys()\n",
    "    series = js[\"Time Series (Daily)\"]\n",
    "    df_api = pd.DataFrame(series).T.rename_axis(\"date\").reset_index()\n",
    "    df_api[\"date\"] = pd.to_datetime(df_api[\"date\"])\n",
    "    df_api.rename(columns={\"1. open\":\"open\",\"2. high\":\"high\",\"3. low\":\"low\",\"4. close\":\"close\",\"5. volume\":\"volume\"},inplace=True)\n",
    "    for column in df_api.columns[1:]:\n",
    "        df_api[column] = pd.to_numeric(df_api[column])\n",
    "else:\n",
    "    df_api = yf.download(tickers=symbol,period=\"6mo\",interval=\"1d\",auto_adjust=False)\n",
    "    df_api = df_api.reset_index()\n",
    "    df_api.rename(columns={\"Open\":\"open\",\"High\":\"high\",\"Low\":\"low\",\"Close\":\"close\",\"Volume\":\"volume\"},inplace=True)\n",
    "df_api[\"date\"].sort_values().reset_index(drop=True)\n",
    "# df_api"
   ]
  },
  {
   "cell_type": "code",
   "execution_count": null,
   "id": "ba97ee2e",
   "metadata": {},
   "outputs": [
    {
     "data": {
      "text/plain": [
       "{'missing': ['adj close'],\n",
       " 'shape': (100, 6),\n",
       " 'none_count': <bound method Series.sum of date      0\n",
       " open      0\n",
       " high      0\n",
       " low       0\n",
       " close     0\n",
       " volume    0\n",
       " dtype: int64>}"
      ]
     },
     "execution_count": 58,
     "metadata": {},
     "output_type": "execute_result"
    }
   ],
   "source": [
    "#validate dataframe for required column \n",
    "required = [\"open\",\"high\",\"low\",\"close\",\"volume\",\"adj close\"]\n",
    "validate(df_api,required_columns=required)"
   ]
  },
  {
   "cell_type": "code",
   "execution_count": null,
   "id": "25488b41",
   "metadata": {},
   "outputs": [
    {
     "name": "stdout",
     "output_type": "stream",
     "text": [
      "saved path:data/raw/api_source-alpha_symbol-NVDA_20250817-212610.csv\n"
     ]
    }
   ],
   "source": [
    "#save csv file to path\n",
    "_ = save_csv(df_api, prefix='api', source='alpha' if api_key else 'yfinance', symbol=symbol)"
   ]
  },
  {
   "cell_type": "code",
   "execution_count": 73,
   "id": "4aa39006",
   "metadata": {},
   "outputs": [],
   "source": [
    "#Scrape a Small Table\n",
    "table_url = \"https://home.treasury.gov/resource-center/data-chart-center/interest-rates/TextView?type=daily_treasury_yield_curve&field_tdr_date_value=2025\"\n",
    "headers = {\"User-Agent\":\"AFE-Homework\"}\n",
    "r = requests.get(url=table_url,headers=headers)\n",
    "soup = BeautifulSoup(r.text,\"html.parser\")\n",
    "table = soup.find_all(\"table\")\n",
    "# Select the first table from the ResultSet\n",
    "main_table = table[0]\n",
    "rows = [[c.get_text(strip=True) for c in tr.find_all([\"th\",\"td\"])] for tr in main_table.find_all(\"tr\") if tr.find_all([\"th\",\"td\"])]\n",
    "header, *data = [r for r in rows if r]\n",
    "df_scrape = pd.DataFrame(data, columns=header)"
   ]
  },
  {
   "cell_type": "code",
   "execution_count": 85,
   "id": "eaf6098f",
   "metadata": {},
   "outputs": [
    {
     "name": "stdout",
     "output_type": "stream",
     "text": [
      "saved path:data/raw/scrape_source-US_Department_of_the_treasury_table-Daily_Treasury_Par_Yield_Curve_Rates_2025_20250817-231232.csv\n"
     ]
    }
   ],
   "source": [
    "required = {\"1 Yr\",\"2 Yr\",\"3 Yr\",\"5 Yr\"}\n",
    "validate(df_scrape,required_columns=required)\n",
    "_ = save_csv(df_scrape,prefix=\"scrape\",source=\"US_Department_of_the_treasury\",table=\"Daily_Treasury_Par_Yield_Curve_Rates_2025\")"
   ]
  },
  {
   "cell_type": "markdown",
   "id": "b3d9f3a9",
   "metadata": {},
   "source": [
    "## Notes&Sources ##\n",
    "**API Sources**: Alpha vantage or yfinance as fallback<br>\n",
    "**Scrape Source**: US department of the treasury<br>\n",
    "**Secrets**: `.env` with `ALPHAVANTAGE_API_KEY`; do not commit `.env`<br>\n",
    "**params&validation**:fetch daily stock data(OHLCV,adjust close)from alpha vantage or yfinance as fallback;fetch US treasury yield curve rates for 1yr,2yr,3yr,5yr<br>\n",
    "**assumptions&risks**:assume all the data are accurate and reliable;missing data might cause deviation for future analysis"
   ]
  },
  {
   "cell_type": "markdown",
   "id": "6afddc06",
   "metadata": {},
   "source": []
  }
 ],
 "metadata": {
  "kernelspec": {
   "display_name": "fe-course",
   "language": "python",
   "name": "python3"
  },
  "language_info": {
   "codemirror_mode": {
    "name": "ipython",
    "version": 3
   },
   "file_extension": ".py",
   "mimetype": "text/x-python",
   "name": "python",
   "nbconvert_exporter": "python",
   "pygments_lexer": "ipython3",
   "version": "3.11.13"
  }
 },
 "nbformat": 4,
 "nbformat_minor": 5
}
