{
 "cells": [
  {
   "cell_type": "code",
   "execution_count": 46,
   "id": "35534932",
   "metadata": {},
   "outputs": [],
   "source": [
    "from pathlib import Path\n",
    "import os\n",
    "from dotenv import load_dotenv\n",
    "import yfinance as yf\n",
    "import datetime as dt\n",
    "import pandas as pd\n",
    "\n",
    "load_dotenv()\n",
    "RAW = Path(os.getenv('DATA_DIR_RAW', 'data/raw'))\n",
    "PROC = Path(os.getenv('DATA_DIR_PROCESSED', 'data/processed'))\n",
    "RAW.mkdir(parents=True, exist_ok=True)\n",
    "PROC.mkdir(parents=True, exist_ok=True)"
   ]
  },
  {
   "cell_type": "code",
   "execution_count": 47,
   "id": "4fb3a567",
   "metadata": {},
   "outputs": [],
   "source": [
    "#reusable function\n",
    "def time_stamp():\n",
    "    return dt.datetime.now().strftime(\"%Y%m%d-%H%M%S\")\n",
    "def validate_loaded(original, reloaded):\n",
    "    checks = {\n",
    "        'shape_equal': original.shape == reloaded.shape,\n",
    "        'date_is_datetime': pd.api.types.is_datetime64_any_dtype(reloaded['date']) if 'date' in reloaded.columns else False,\n",
    "        'close_is_numeric': pd.api.types.is_numeric_dtype(reloaded['close']) if 'close' in reloaded.columns else False,\n",
    "        'open_is_numeric': pd.api.types.is_numeric_dtype(reloaded['open']) if 'open' in reloaded.columns else False,\n",
    "        'high_is_numeric': pd.api.types.is_numeric_dtype(reloaded['high']) if 'high' in reloaded.columns else False,\n",
    "        'low_is_numeric': pd.api.types.is_numeric_dtype(reloaded['close']) if 'low' in reloaded.columns else False,\n",
    "        'volume_is_numeric': pd.api.types.is_numeric_dtype(reloaded['volume']) if 'volume' in reloaded.columns else False,\n",
    "        'adjclose_is_numeric': pd.api.types.is_numeric_dtype(reloaded['close']) if 'adj close' in reloaded.columns else False,\n",
    "    }\n",
    "    return checks"
   ]
  },
  {
   "cell_type": "code",
   "execution_count": 48,
   "id": "a1ceab5b",
   "metadata": {},
   "outputs": [
    {
     "name": "stderr",
     "output_type": "stream",
     "text": [
      "[*********************100%***********************]  1 of 1 completed\n"
     ]
    },
    {
     "data": {
      "text/html": [
       "<div>\n",
       "<style scoped>\n",
       "    .dataframe tbody tr th:only-of-type {\n",
       "        vertical-align: middle;\n",
       "    }\n",
       "\n",
       "    .dataframe tbody tr th {\n",
       "        vertical-align: top;\n",
       "    }\n",
       "\n",
       "    .dataframe thead th {\n",
       "        text-align: right;\n",
       "    }\n",
       "</style>\n",
       "<table border=\"1\" class=\"dataframe\">\n",
       "  <thead>\n",
       "    <tr style=\"text-align: right;\">\n",
       "      <th>Price</th>\n",
       "      <th>date</th>\n",
       "      <th>adj close</th>\n",
       "      <th>close</th>\n",
       "      <th>high</th>\n",
       "      <th>low</th>\n",
       "      <th>open</th>\n",
       "      <th>volume</th>\n",
       "    </tr>\n",
       "  </thead>\n",
       "  <tbody>\n",
       "    <tr>\n",
       "      <th>0</th>\n",
       "      <td>2025-02-18</td>\n",
       "      <td>139.377502</td>\n",
       "      <td>139.399994</td>\n",
       "      <td>143.440002</td>\n",
       "      <td>137.929993</td>\n",
       "      <td>141.270004</td>\n",
       "      <td>219176600</td>\n",
       "    </tr>\n",
       "    <tr>\n",
       "      <th>1</th>\n",
       "      <td>2025-02-19</td>\n",
       "      <td>139.207520</td>\n",
       "      <td>139.229996</td>\n",
       "      <td>141.360001</td>\n",
       "      <td>137.220001</td>\n",
       "      <td>139.509995</td>\n",
       "      <td>167536000</td>\n",
       "    </tr>\n",
       "    <tr>\n",
       "      <th>2</th>\n",
       "      <td>2025-02-20</td>\n",
       "      <td>140.087387</td>\n",
       "      <td>140.110001</td>\n",
       "      <td>140.660004</td>\n",
       "      <td>136.789993</td>\n",
       "      <td>140.029999</td>\n",
       "      <td>143903600</td>\n",
       "    </tr>\n",
       "    <tr>\n",
       "      <th>3</th>\n",
       "      <td>2025-02-21</td>\n",
       "      <td>134.408295</td>\n",
       "      <td>134.429993</td>\n",
       "      <td>141.460007</td>\n",
       "      <td>134.029999</td>\n",
       "      <td>140.039993</td>\n",
       "      <td>228217600</td>\n",
       "    </tr>\n",
       "    <tr>\n",
       "      <th>4</th>\n",
       "      <td>2025-02-24</td>\n",
       "      <td>130.258972</td>\n",
       "      <td>130.279999</td>\n",
       "      <td>138.589996</td>\n",
       "      <td>130.080002</td>\n",
       "      <td>136.559998</td>\n",
       "      <td>251381100</td>\n",
       "    </tr>\n",
       "    <tr>\n",
       "      <th>...</th>\n",
       "      <td>...</td>\n",
       "      <td>...</td>\n",
       "      <td>...</td>\n",
       "      <td>...</td>\n",
       "      <td>...</td>\n",
       "      <td>...</td>\n",
       "      <td>...</td>\n",
       "    </tr>\n",
       "    <tr>\n",
       "      <th>120</th>\n",
       "      <td>2025-08-11</td>\n",
       "      <td>182.059998</td>\n",
       "      <td>182.059998</td>\n",
       "      <td>183.839996</td>\n",
       "      <td>180.250000</td>\n",
       "      <td>182.050003</td>\n",
       "      <td>138323200</td>\n",
       "    </tr>\n",
       "    <tr>\n",
       "      <th>121</th>\n",
       "      <td>2025-08-12</td>\n",
       "      <td>183.160004</td>\n",
       "      <td>183.160004</td>\n",
       "      <td>184.479996</td>\n",
       "      <td>179.460007</td>\n",
       "      <td>182.960007</td>\n",
       "      <td>145485700</td>\n",
       "    </tr>\n",
       "    <tr>\n",
       "      <th>122</th>\n",
       "      <td>2025-08-13</td>\n",
       "      <td>181.589996</td>\n",
       "      <td>181.589996</td>\n",
       "      <td>183.970001</td>\n",
       "      <td>179.350006</td>\n",
       "      <td>182.619995</td>\n",
       "      <td>179871700</td>\n",
       "    </tr>\n",
       "    <tr>\n",
       "      <th>123</th>\n",
       "      <td>2025-08-14</td>\n",
       "      <td>182.020004</td>\n",
       "      <td>182.020004</td>\n",
       "      <td>183.020004</td>\n",
       "      <td>179.460007</td>\n",
       "      <td>179.750000</td>\n",
       "      <td>129554000</td>\n",
       "    </tr>\n",
       "    <tr>\n",
       "      <th>124</th>\n",
       "      <td>2025-08-15</td>\n",
       "      <td>180.449997</td>\n",
       "      <td>180.449997</td>\n",
       "      <td>181.899994</td>\n",
       "      <td>178.039993</td>\n",
       "      <td>181.880005</td>\n",
       "      <td>156254400</td>\n",
       "    </tr>\n",
       "  </tbody>\n",
       "</table>\n",
       "<p>125 rows × 7 columns</p>\n",
       "</div>"
      ],
      "text/plain": [
       "Price       date   adj close       close        high         low        open  \\\n",
       "0     2025-02-18  139.377502  139.399994  143.440002  137.929993  141.270004   \n",
       "1     2025-02-19  139.207520  139.229996  141.360001  137.220001  139.509995   \n",
       "2     2025-02-20  140.087387  140.110001  140.660004  136.789993  140.029999   \n",
       "3     2025-02-21  134.408295  134.429993  141.460007  134.029999  140.039993   \n",
       "4     2025-02-24  130.258972  130.279999  138.589996  130.080002  136.559998   \n",
       "..           ...         ...         ...         ...         ...         ...   \n",
       "120   2025-08-11  182.059998  182.059998  183.839996  180.250000  182.050003   \n",
       "121   2025-08-12  183.160004  183.160004  184.479996  179.460007  182.960007   \n",
       "122   2025-08-13  181.589996  181.589996  183.970001  179.350006  182.619995   \n",
       "123   2025-08-14  182.020004  182.020004  183.020004  179.460007  179.750000   \n",
       "124   2025-08-15  180.449997  180.449997  181.899994  178.039993  181.880005   \n",
       "\n",
       "Price     volume  \n",
       "0      219176600  \n",
       "1      167536000  \n",
       "2      143903600  \n",
       "3      228217600  \n",
       "4      251381100  \n",
       "..           ...  \n",
       "120    138323200  \n",
       "121    145485700  \n",
       "122    179871700  \n",
       "123    129554000  \n",
       "124    156254400  \n",
       "\n",
       "[125 rows x 7 columns]"
      ]
     },
     "execution_count": 48,
     "metadata": {},
     "output_type": "execute_result"
    }
   ],
   "source": [
    "#loading dataframe\n",
    "symbol = \"NVDA\"\n",
    "df_api = yf.download(tickers=symbol,period=\"6mo\",interval=\"1d\",auto_adjust=False)\n",
    "if isinstance(df_api.columns, pd.MultiIndex):\n",
    "    df_api.columns = df_api.columns.droplevel(1)\n",
    "df_api = df_api.reset_index()\n",
    "df_api.rename(columns={\"Date\":\"date\",\"Open\":\"open\",\"High\":\"high\",\"Low\":\"low\",\"Close\":\"close\",\"Volume\":\"volume\",\"Adj Close\":\"adj close\"},inplace=True)\n",
    "df_api"
   ]
  },
  {
   "cell_type": "code",
   "execution_count": 49,
   "id": "53ee344c",
   "metadata": {},
   "outputs": [],
   "source": [
    "#save dataframe to data/raw as csv\n",
    "csv_path = RAW/f\"NVDA_Stock_{time_stamp()}.csv\"\n",
    "df_api.to_csv(csv_path,index=False)"
   ]
  },
  {
   "cell_type": "code",
   "execution_count": 50,
   "id": "5e764f57",
   "metadata": {},
   "outputs": [],
   "source": [
    "#save dataframe to data/processed as parquet\n",
    "par_path = PROC/f\"NVDA_Stock_{time_stamp()}.parquet\"\n",
    "df_api.to_parquet(par_path)"
   ]
  },
  {
   "cell_type": "code",
   "execution_count": 54,
   "id": "39e99b2d",
   "metadata": {},
   "outputs": [
    {
     "data": {
      "text/plain": [
       "{'shape_equal': True,\n",
       " 'date_is_datetime': False,\n",
       " 'close_is_numeric': True,\n",
       " 'open_is_numeric': True,\n",
       " 'high_is_numeric': True,\n",
       " 'low_is_numeric': True,\n",
       " 'volume_is_numeric': True,\n",
       " 'adjclose_is_numeric': True}"
      ]
     },
     "execution_count": 54,
     "metadata": {},
     "output_type": "execute_result"
    }
   ],
   "source": [
    "#reload and validate csv file\n",
    "df_csv = pd.read_csv(csv_path)\n",
    "validate_loaded(df_api,df_csv)"
   ]
  },
  {
   "cell_type": "code",
   "execution_count": 55,
   "id": "3ec255e5",
   "metadata": {},
   "outputs": [
    {
     "data": {
      "text/plain": [
       "{'shape_equal': True,\n",
       " 'date_is_datetime': True,\n",
       " 'close_is_numeric': True,\n",
       " 'open_is_numeric': True,\n",
       " 'high_is_numeric': True,\n",
       " 'low_is_numeric': True,\n",
       " 'volume_is_numeric': True,\n",
       " 'adjclose_is_numeric': True}"
      ]
     },
     "execution_count": 55,
     "metadata": {},
     "output_type": "execute_result"
    }
   ],
   "source": [
    "#reload and validate parquet file\n",
    "df_pq = pd.read_parquet(par_path)\n",
    "validate_loaded(df_api,df_pq)"
   ]
  },
  {
   "cell_type": "code",
   "execution_count": null,
   "id": "d8bb3475",
   "metadata": {},
   "outputs": [],
   "source": []
  }
 ],
 "metadata": {
  "kernelspec": {
   "display_name": "fe-course",
   "language": "python",
   "name": "python3"
  },
  "language_info": {
   "codemirror_mode": {
    "name": "ipython",
    "version": 3
   },
   "file_extension": ".py",
   "mimetype": "text/x-python",
   "name": "python",
   "nbconvert_exporter": "python",
   "pygments_lexer": "ipython3",
   "version": "3.11.13"
  }
 },
 "nbformat": 4,
 "nbformat_minor": 5
}
