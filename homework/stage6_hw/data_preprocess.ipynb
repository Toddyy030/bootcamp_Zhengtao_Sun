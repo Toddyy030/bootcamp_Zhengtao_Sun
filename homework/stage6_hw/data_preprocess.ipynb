{
 "cells": [
  {
   "cell_type": "code",
   "execution_count": null,
   "id": "d78b9e56",
   "metadata": {},
   "outputs": [],
   "source": [
    "from pathlib import Path\n",
    "from dotenv import load_dotenv\n",
    "import numpy as np\n",
    "import os\n",
    "import pandas as pd\n",
    "import sys\n",
    "import yfinance as yf\n",
    "from src.cleaning import *\n",
    "\n",
    "load_dotenv()\n",
    "RAW = Path(os.getenv(\"DATA_DIR_RAW\",\"data/raw\"))\n",
    "PROC = Path(os.getenv(\"DATA_DIR_PROCESSED\",\"data/processed\"))\n",
    "src_path = Path(\"./src\")\n",
    "RAW.mkdir(parents=True,exist_ok=True)\n",
    "PROC.mkdir(parents=True,exist_ok=True)\n",
    "src_path.mkdir(parents=True,exist_ok=True)"
   ]
  },
  {
   "cell_type": "code",
   "execution_count": null,
   "id": "61515728",
   "metadata": {},
   "outputs": [],
   "source": [
    "#loading sample data\n",
    "data = {\n",
    "    'age': [34, 45, 29, 50, 38, np.nan, 41],\n",
    "    'income': [55000, np.nan, 42000, 58000, np.nan, np.nan, 49000],\n",
    "    'score': [0.82, 0.91, np.nan, 0.76, 0.88, 0.65, 0.79],\n",
    "    'zipcode': ['90210', '10001', '60614', '94103', '73301', '12345', '94105'],\n",
    "    'city': ['Beverly', 'New York', 'Chicago', 'SF', 'Austin', 'Unknown', 'San Francisco'],\n",
    "    'extra_data': [np.nan, 42, np.nan, np.nan, np.nan, 5, np.nan]\n",
    "}\n",
    "df_sample = pd.DataFrame(data)\n",
    "df_sample.to_csv(f\"{RAW}/sample.csv\",index=False)"
   ]
  },
  {
   "cell_type": "code",
   "execution_count": 9,
   "id": "98447fd2",
   "metadata": {},
   "outputs": [
    {
     "data": {
      "text/html": [
       "<div>\n",
       "<style scoped>\n",
       "    .dataframe tbody tr th:only-of-type {\n",
       "        vertical-align: middle;\n",
       "    }\n",
       "\n",
       "    .dataframe tbody tr th {\n",
       "        vertical-align: top;\n",
       "    }\n",
       "\n",
       "    .dataframe thead th {\n",
       "        text-align: right;\n",
       "    }\n",
       "</style>\n",
       "<table border=\"1\" class=\"dataframe\">\n",
       "  <thead>\n",
       "    <tr style=\"text-align: right;\">\n",
       "      <th></th>\n",
       "      <th>age</th>\n",
       "      <th>income</th>\n",
       "      <th>score</th>\n",
       "      <th>zipcode</th>\n",
       "      <th>city</th>\n",
       "      <th>extra_data</th>\n",
       "    </tr>\n",
       "  </thead>\n",
       "  <tbody>\n",
       "    <tr>\n",
       "      <th>0</th>\n",
       "      <td>34.0</td>\n",
       "      <td>55000.0</td>\n",
       "      <td>0.82</td>\n",
       "      <td>90210</td>\n",
       "      <td>Beverly</td>\n",
       "      <td>NaN</td>\n",
       "    </tr>\n",
       "    <tr>\n",
       "      <th>1</th>\n",
       "      <td>45.0</td>\n",
       "      <td>NaN</td>\n",
       "      <td>0.91</td>\n",
       "      <td>10001</td>\n",
       "      <td>New York</td>\n",
       "      <td>42.0</td>\n",
       "    </tr>\n",
       "    <tr>\n",
       "      <th>2</th>\n",
       "      <td>29.0</td>\n",
       "      <td>42000.0</td>\n",
       "      <td>NaN</td>\n",
       "      <td>60614</td>\n",
       "      <td>Chicago</td>\n",
       "      <td>NaN</td>\n",
       "    </tr>\n",
       "    <tr>\n",
       "      <th>3</th>\n",
       "      <td>50.0</td>\n",
       "      <td>58000.0</td>\n",
       "      <td>0.76</td>\n",
       "      <td>94103</td>\n",
       "      <td>SF</td>\n",
       "      <td>NaN</td>\n",
       "    </tr>\n",
       "    <tr>\n",
       "      <th>4</th>\n",
       "      <td>38.0</td>\n",
       "      <td>NaN</td>\n",
       "      <td>0.88</td>\n",
       "      <td>73301</td>\n",
       "      <td>Austin</td>\n",
       "      <td>NaN</td>\n",
       "    </tr>\n",
       "    <tr>\n",
       "      <th>5</th>\n",
       "      <td>NaN</td>\n",
       "      <td>NaN</td>\n",
       "      <td>0.65</td>\n",
       "      <td>12345</td>\n",
       "      <td>Unknown</td>\n",
       "      <td>5.0</td>\n",
       "    </tr>\n",
       "    <tr>\n",
       "      <th>6</th>\n",
       "      <td>41.0</td>\n",
       "      <td>49000.0</td>\n",
       "      <td>0.79</td>\n",
       "      <td>94105</td>\n",
       "      <td>San Francisco</td>\n",
       "      <td>NaN</td>\n",
       "    </tr>\n",
       "  </tbody>\n",
       "</table>\n",
       "</div>"
      ],
      "text/plain": [
       "    age   income  score zipcode           city  extra_data\n",
       "0  34.0  55000.0   0.82   90210        Beverly         NaN\n",
       "1  45.0      NaN   0.91   10001       New York        42.0\n",
       "2  29.0  42000.0    NaN   60614        Chicago         NaN\n",
       "3  50.0  58000.0   0.76   94103             SF         NaN\n",
       "4  38.0      NaN   0.88   73301         Austin         NaN\n",
       "5   NaN      NaN   0.65   12345        Unknown         5.0\n",
       "6  41.0  49000.0   0.79   94105  San Francisco         NaN"
      ]
     },
     "execution_count": 9,
     "metadata": {},
     "output_type": "execute_result"
    }
   ],
   "source": [
    "df_sample"
   ]
  },
  {
   "cell_type": "markdown",
   "id": "df8ad429",
   "metadata": {},
   "source": [
    "**Try the cleaning functions to see if it works**"
   ]
  },
  {
   "cell_type": "code",
   "execution_count": null,
   "id": "ac892885",
   "metadata": {},
   "outputs": [],
   "source": [
    "#try drop_missing function\n",
    "drop_missing(df_sample,threshold=0.9)"
   ]
  },
  {
   "cell_type": "code",
   "execution_count": null,
   "id": "c0291804",
   "metadata": {},
   "outputs": [],
   "source": [
    "drop_missing(df_sample,columns=[\"income\",\"score\"])"
   ]
  },
  {
   "cell_type": "code",
   "execution_count": null,
   "id": "886db3b2",
   "metadata": {},
   "outputs": [],
   "source": [
    "#try fiilling_missing median function\n",
    "filling_missing_median(df_sample)"
   ]
  },
  {
   "cell_type": "code",
   "execution_count": null,
   "id": "4b8eb32c",
   "metadata": {},
   "outputs": [],
   "source": [
    "#try normalize_data function\n",
    "normalize_data(df_sample,method=\"minmax\")"
   ]
  },
  {
   "cell_type": "code",
   "execution_count": null,
   "id": "38586fda",
   "metadata": {},
   "outputs": [],
   "source": [
    "normalize_data(df_sample,method=\"standard\")"
   ]
  },
  {
   "cell_type": "markdown",
   "id": "6c92bbd1",
   "metadata": {},
   "source": [
    "**Cleaning sample data**"
   ]
  },
  {
   "cell_type": "code",
   "execution_count": 16,
   "id": "91329864",
   "metadata": {},
   "outputs": [
    {
     "data": {
      "text/html": [
       "<div>\n",
       "<style scoped>\n",
       "    .dataframe tbody tr th:only-of-type {\n",
       "        vertical-align: middle;\n",
       "    }\n",
       "\n",
       "    .dataframe tbody tr th {\n",
       "        vertical-align: top;\n",
       "    }\n",
       "\n",
       "    .dataframe thead th {\n",
       "        text-align: right;\n",
       "    }\n",
       "</style>\n",
       "<table border=\"1\" class=\"dataframe\">\n",
       "  <thead>\n",
       "    <tr style=\"text-align: right;\">\n",
       "      <th></th>\n",
       "      <th>age</th>\n",
       "      <th>income</th>\n",
       "      <th>score</th>\n",
       "      <th>zipcode</th>\n",
       "      <th>city</th>\n",
       "    </tr>\n",
       "  </thead>\n",
       "  <tbody>\n",
       "    <tr>\n",
       "      <th>0</th>\n",
       "      <td>-0.797325</td>\n",
       "      <td>0.730096</td>\n",
       "      <td>-0.196116</td>\n",
       "      <td>90210</td>\n",
       "      <td>Beverly</td>\n",
       "    </tr>\n",
       "    <tr>\n",
       "      <th>1</th>\n",
       "      <td>0.797325</td>\n",
       "      <td>0.132745</td>\n",
       "      <td>1.568929</td>\n",
       "      <td>10001</td>\n",
       "      <td>New York</td>\n",
       "    </tr>\n",
       "    <tr>\n",
       "      <th>2</th>\n",
       "      <td>-1.522165</td>\n",
       "      <td>-1.858425</td>\n",
       "      <td>-0.196116</td>\n",
       "      <td>60614</td>\n",
       "      <td>Chicago</td>\n",
       "    </tr>\n",
       "    <tr>\n",
       "      <th>3</th>\n",
       "      <td>1.522165</td>\n",
       "      <td>1.327447</td>\n",
       "      <td>-1.372813</td>\n",
       "      <td>94103</td>\n",
       "      <td>SF</td>\n",
       "    </tr>\n",
       "    <tr>\n",
       "      <th>4</th>\n",
       "      <td>-0.217452</td>\n",
       "      <td>0.132745</td>\n",
       "      <td>0.980581</td>\n",
       "      <td>73301</td>\n",
       "      <td>Austin</td>\n",
       "    </tr>\n",
       "    <tr>\n",
       "      <th>6</th>\n",
       "      <td>0.217452</td>\n",
       "      <td>-0.464606</td>\n",
       "      <td>-0.784465</td>\n",
       "      <td>94105</td>\n",
       "      <td>San Francisco</td>\n",
       "    </tr>\n",
       "  </tbody>\n",
       "</table>\n",
       "</div>"
      ],
      "text/plain": [
       "        age    income     score zipcode           city\n",
       "0 -0.797325  0.730096 -0.196116   90210        Beverly\n",
       "1  0.797325  0.132745  1.568929   10001       New York\n",
       "2 -1.522165 -1.858425 -0.196116   60614        Chicago\n",
       "3  1.522165  1.327447 -1.372813   94103             SF\n",
       "4 -0.217452  0.132745  0.980581   73301         Austin\n",
       "6  0.217452 -0.464606 -0.784465   94105  San Francisco"
      ]
     },
     "execution_count": 16,
     "metadata": {},
     "output_type": "execute_result"
    }
   ],
   "source": [
    "df_processed = df_sample.drop(columns = [\"extra_data\"])\n",
    "df_processed = drop_missing(df_processed,threshold=0.9)\n",
    "df_processed = filling_missing_median(df_processed)\n",
    "df_processed = normalize_data(df_processed,method=\"standard\")\n",
    "df_processed"
   ]
  },
  {
   "cell_type": "code",
   "execution_count": 19,
   "id": "e15901f6",
   "metadata": {},
   "outputs": [],
   "source": [
    "#save processed data\n",
    "df_processed.to_csv(f\"{PROC}/sample_proc.csv\",index=False)"
   ]
  }
 ],
 "metadata": {
  "kernelspec": {
   "display_name": "fe-course",
   "language": "python",
   "name": "python3"
  },
  "language_info": {
   "codemirror_mode": {
    "name": "ipython",
    "version": 3
   },
   "file_extension": ".py",
   "mimetype": "text/x-python",
   "name": "python",
   "nbconvert_exporter": "python",
   "pygments_lexer": "ipython3",
   "version": "3.11.13"
  }
 },
 "nbformat": 4,
 "nbformat_minor": 5
}
